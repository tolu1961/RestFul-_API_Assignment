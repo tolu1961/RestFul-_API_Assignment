{
  "nbformat": 4,
  "nbformat_minor": 0,
  "metadata": {
    "colab": {
      "provenance": []
    },
    "kernelspec": {
      "name": "python3",
      "display_name": "Python 3"
    },
    "language_info": {
      "name": "python"
    }
  },
  "cells": [
    {
      "cell_type": "markdown",
      "source": [
        "# **Theory question's**"
      ],
      "metadata": {
        "id": "SIPt2oZq4pqC"
      }
    },
    {
      "cell_type": "markdown",
      "source": [
        "Q1. What is a RESTful API ?\n",
        "\n",
        "  - RESTful API is a web service that follows the principle of REST architecture."
      ],
      "metadata": {
        "id": "CXCnnxNwxG_T"
      }
    },
    {
      "cell_type": "markdown",
      "source": [
        "Q2.  Explain the concept of API specification ?\n",
        "\n",
        "  - An API specification is a formal document that defines how software components interact by detailing available endpoints, request and response formats, authentication methods, and error handling protocols."
      ],
      "metadata": {
        "id": "FaPx4yv5b0LB"
      }
    },
    {
      "cell_type": "markdown",
      "source": [
        "Q3.  What is Flask, and why is it popular for building APIs ?\n",
        "  \n",
        "  - Flask is a micro web framework in Python that allows developers to build web applications and APIs quickly by providing essential tools without enforcing a rigid structure, making it ideal for small to medium-sized projects and rapid prototyping."
      ],
      "metadata": {
        "id": "d05CavWNcHYO"
      }
    },
    {
      "cell_type": "markdown",
      "source": [
        "Q4. What is routing in Flask ?\n",
        "   \n",
        "   -  Routing in Flask is the process of mapping URLs to specific Python functions that handle requests. It’s how Flask knows what code to run when someone visits a particular web address.\n",
        "\n",
        "  "
      ],
      "metadata": {
        "id": "AA5v4DHXcZLG"
      }
    },
    {
      "cell_type": "markdown",
      "source": [
        "Q5. How do you create a simple Flask application ?\n",
        "   \n",
        "   - To create a simple Flask application, you import the Flask class, instantiate it, define routes using decorators like @app.route, and run the app using app.run(), which starts a local development server.\n"
      ],
      "metadata": {
        "id": "BA4s3rBLcvb8"
      }
    },
    {
      "cell_type": "markdown",
      "source": [
        "Q6. What are HTTP methods used in RESTful APIs ?\n",
        "  \n",
        "  - HTTP methods in RESTful APIs define the type of operation to be performed on a resource, such as retrieving, creating, updating, or deleting data, using standardized verbs like GET, POST, PUT, PATCH, and DELETE."
      ],
      "metadata": {
        "id": "dhuj-ZQqdErx"
      }
    },
    {
      "cell_type": "markdown",
      "source": [
        "Q7. What is the purpose of the @app.route() decorator in Flask ?\n",
        "   \n",
        "   - The @app.route() decorator in Flask is used to bind a specific URL path to a Python function, allowing that function to handle incoming HTTP requests to that route.\n",
        "\n",
        "    - Purpose in Practice\n",
        "- It registers a view function for a given URL.\n",
        "- It defines what happens when a user accesses that URL.\n",
        "- It supports optional parameters and HTTP methods.\n"
      ],
      "metadata": {
        "id": "utA9VAY5dXAN"
      }
    },
    {
      "cell_type": "markdown",
      "source": [
        "Q8. What is the difference between GET and POST HTTP methods ?\n",
        "  \n",
        "   - GET is used to retrieve data from a server without modifying it, while POST is used to send data to the server to create or process a resource."
      ],
      "metadata": {
        "id": "Xe0juVqldwB2"
      }
    },
    {
      "cell_type": "markdown",
      "source": [
        "Q9. How do you handle errors in Flask APIs ?\n",
        "  \n",
        "  -  Error handling in Flask APIs involves intercepting exceptions or invalid requests and returning structured HTTP responses with appropriate status codes and messages, often using custom error handlers or built-in functions like abort().\n"
      ],
      "metadata": {
        "id": "is5O8eaBeCDi"
      }
    },
    {
      "cell_type": "markdown",
      "source": [
        "Q10. How do you connect Flask to a SQL database ?\n",
        "\n",
        "  - To connect Flask to a SQL database, you typically use an ORM like SQLAlchemy or a direct connector like sqlite3, configure the database URI, and integrate it with your Flask app to perform CRUD operations.\n"
      ],
      "metadata": {
        "id": "B76kaY4IeQfz"
      }
    },
    {
      "cell_type": "markdown",
      "source": [
        "Q11. What is the role of Flask-SQLAlchemy ?\n",
        "   \n",
        "   - Flask-SQLAlchemy is an extension that integrates SQLAlchemy with Flask, providing a high-level ORM interface to manage database models, queries, and connections seamlessly within a Flask application."
      ],
      "metadata": {
        "id": "7U0uJJ1PehDS"
      }
    },
    {
      "cell_type": "markdown",
      "source": [
        "Q12. What are Flask blueprints, and how are they useful ?\n",
        "   \n",
        "   - Flask blueprints are modular components that allow you to organize routes, templates, and static files into reusable, self-contained units, making large Flask applications easier to manage and scale."
      ],
      "metadata": {
        "id": "DLKHEq6Xewty"
      }
    },
    {
      "cell_type": "markdown",
      "source": [
        "Q13.  What is the purpose of Flask's request object ?\n",
        "   \n",
        "   -  Flask’s request object provides access to incoming HTTP request data, such as form inputs, query parameters, headers, JSON payloads, and request methods, enabling dynamic interaction between the client and server.\n"
      ],
      "metadata": {
        "id": "cXAVZQhefA9C"
      }
    },
    {
      "cell_type": "markdown",
      "source": [
        "Q14. How do you create a RESTful API endpoint using Flask ?\n",
        "   \n",
        "   -  To create a RESTful API endpoint in Flask, you define a route using @app.route() with an appropriate HTTP method like GET or POST, and implement a function that processes the request and returns a structured response, typically in JSON format.\n"
      ],
      "metadata": {
        "id": "zr4lidMSfPZz"
      }
    },
    {
      "cell_type": "markdown",
      "source": [
        "Q15. What is the purpose of Flask's jsonify() function ?\n",
        "\n",
        "  - Flask’s jsonify() function is used to convert Python dictionaries or lists into properly formatted JSON responses, automatically setting the correct Content-Type header and handling encoding, making it ideal for RESTful API responses.\n"
      ],
      "metadata": {
        "id": "l3Hw49O_fbwO"
      }
    },
    {
      "cell_type": "markdown",
      "source": [
        "Q16. Explain Flask’s url_for() function ?\n",
        "    \n",
        "  - Flask’s url_for() function dynamically generates the URL for a given view function based on its name, allowing developers to avoid hardcoding paths and ensuring maintainable, flexible routing across the application.\n"
      ],
      "metadata": {
        "id": "9NQ3-EUKfzO4"
      }
    },
    {
      "cell_type": "markdown",
      "source": [
        "Q17. How does Flask handle static files (CSS, JavaScript, etc.) ?\n",
        "  \n",
        "  -  Flask handles static files by serving them from a dedicated static folder, allowing developers to include stylesheets, scripts, and images in their web pages using the url_for('static', filename='...') function.\n"
      ],
      "metadata": {
        "id": "Lqh2J7ObkdDT"
      }
    },
    {
      "cell_type": "markdown",
      "source": [
        "Q18. What is an API specification, and how does it help in building a Flask API ?\n",
        "\n",
        "  - An API specification is a formal document that defines the structure, behavior, and rules of an API, including endpoints, request/response formats, authentication, and error handling, serving as a contract between the client and server."
      ],
      "metadata": {
        "id": "DpgsfkcukxBk"
      }
    },
    {
      "cell_type": "markdown",
      "source": [
        "Q19.  What are HTTP status codes, and why are they important in a Flask API ?\n",
        "  \n",
        "  -  HTTP status codes are standardized numeric responses sent by a server to indicate the result of a client's request, helping both developers and clients understand whether an operation succeeded, failed, or requires further action."
      ],
      "metadata": {
        "id": "6pXiIOK8k_Wg"
      }
    },
    {
      "cell_type": "markdown",
      "source": [
        "Q20.  How do you handle POST requests in Flask ?\n",
        "   \n",
        "   -  In Flask, POST requests are handled by defining a route with the methods=['POST'] argument and using the request object to access submitted data, allowing the server to process form inputs, JSON payloads, or file uploads.\n",
        "\n",
        "\n",
        "\n"
      ],
      "metadata": {
        "id": "HSZIS_0klb0u"
      }
    },
    {
      "cell_type": "markdown",
      "source": [
        "Q21. How would you secure a Flask API ?\n",
        "   \n",
        "   -  Securing a Flask API involves implementing authentication, authorization, input validation, HTTPS, rate limiting, and error handling to prevent unauthorized access, data breaches, and abuse of server resources."
      ],
      "metadata": {
        "id": "nMvpqmvfnckx"
      }
    },
    {
      "cell_type": "markdown",
      "source": [
        "Q22. What is the significance of the Flask-RESTful extension ?\n",
        "   \n",
        "   - Flask-RESTful is an extension for Flask that simplifies the creation of RESTful APIs by providing a structured class-based approach to defining resources, handling HTTP methods, and managing request parsing and error responses.  "
      ],
      "metadata": {
        "id": "NaNGSuBLnnbJ"
      }
    },
    {
      "cell_type": "markdown",
      "source": [
        "Q23. What is the role of Flask’s session object?\n",
        "   \n",
        "   -  Flask’s session object provides a secure way to store user-specific data across multiple requests by saving it on the server side and linking it to the client via a signed cookie, enabling features like login persistence, shopping carts, and user preferences.\n"
      ],
      "metadata": {
        "id": "WlgSYE7zn-ik"
      }
    },
    {
      "cell_type": "code",
      "source": [],
      "metadata": {
        "id": "4GiWevvuoPQP"
      },
      "execution_count": null,
      "outputs": []
    },
    {
      "cell_type": "markdown",
      "source": [
        "# **PRACTICAL**\n",
        "-\n",
        "      "
      ],
      "metadata": {
        "id": "McK64eBkoRJB"
      }
    },
    {
      "cell_type": "code",
      "source": [
        "pip install flask"
      ],
      "metadata": {
        "colab": {
          "base_uri": "https://localhost:8080/"
        },
        "id": "OeLjmizrp5S1",
        "outputId": "5e7f9374-daf3-4a84-baf4-368ebf303b3a"
      },
      "execution_count": null,
      "outputs": [
        {
          "output_type": "stream",
          "name": "stdout",
          "text": [
            "Requirement already satisfied: flask in /usr/local/lib/python3.12/dist-packages (3.1.2)\n",
            "Requirement already satisfied: blinker>=1.9.0 in /usr/local/lib/python3.12/dist-packages (from flask) (1.9.0)\n",
            "Requirement already satisfied: click>=8.1.3 in /usr/local/lib/python3.12/dist-packages (from flask) (8.2.1)\n",
            "Requirement already satisfied: itsdangerous>=2.2.0 in /usr/local/lib/python3.12/dist-packages (from flask) (2.2.0)\n",
            "Requirement already satisfied: jinja2>=3.1.2 in /usr/local/lib/python3.12/dist-packages (from flask) (3.1.6)\n",
            "Requirement already satisfied: markupsafe>=2.1.1 in /usr/local/lib/python3.12/dist-packages (from flask) (3.0.2)\n",
            "Requirement already satisfied: werkzeug>=3.1.0 in /usr/local/lib/python3.12/dist-packages (from flask) (3.1.3)\n"
          ]
        }
      ]
    },
    {
      "cell_type": "markdown",
      "source": [
        "Q1. How do you create a basic Flask application ?"
      ],
      "metadata": {
        "id": "8iVcJJFMohw4"
      }
    },
    {
      "cell_type": "code",
      "source": [
        "from flask import Flask\n",
        "\n",
        "app = Flask(__name__)  # Create Flask app instance\n",
        "\n",
        "@app.route('/')         # Define route for home page\n",
        "def home():\n",
        "    return \"Welcome to Adi's Flask App!\"\n",
        "\n",
        "if __name__ == '__main__':\n",
        "    app.run(debug=True)  # Run the app in debug mode"
      ],
      "metadata": {
        "colab": {
          "base_uri": "https://localhost:8080/"
        },
        "id": "iSj-lO-ho44A",
        "outputId": "5d469a57-1fa4-425d-b6c1-5000d4ab7b48"
      },
      "execution_count": null,
      "outputs": [
        {
          "output_type": "stream",
          "name": "stdout",
          "text": [
            " * Serving Flask app '__main__'\n",
            " * Debug mode: on\n"
          ]
        },
        {
          "output_type": "stream",
          "name": "stderr",
          "text": [
            "INFO:werkzeug:\u001b[31m\u001b[1mWARNING: This is a development server. Do not use it in a production deployment. Use a production WSGI server instead.\u001b[0m\n",
            " * Running on http://127.0.0.1:5000\n",
            "INFO:werkzeug:\u001b[33mPress CTRL+C to quit\u001b[0m\n",
            "INFO:werkzeug: * Restarting with watchdog (inotify)\n"
          ]
        }
      ]
    },
    {
      "cell_type": "markdown",
      "source": [
        "Q2. How do you serve static files like images or CSS in Flask ?\n",
        "  "
      ],
      "metadata": {
        "id": "gCt2XdvSqJlU"
      }
    },
    {
      "cell_type": "code",
      "source": [
        "from flask import Flask, render_template, url_for\n",
        "\n",
        "app = Flask(__name__)\n",
        "\n",
        "@app.route('/')\n",
        "def home():\n",
        "    # Use url_for to generate the static file path\n",
        "    css_file = url_for('static', filename='style.css')\n",
        "    image_file = url_for('static', filename='images/logo.png')\n",
        "    return f\"\"\"\n",
        "    <html>\n",
        "        <head>\n",
        "            <link rel=\"stylesheet\" href=\"{css_file}\">\n",
        "        </head>\n",
        "        <body>\n",
        "            <h1>Serving Static Files in Flask</h1>\n",
        "            <img src=\"{image_file}\" alt=\"Logo\" width=\"200\">\n",
        "        </body>\n",
        "    </html>\n",
        "    \"\"\"\n",
        "\n",
        "if __name__ == '__main__':\n",
        "    app.run(debug=True)\n"
      ],
      "metadata": {
        "colab": {
          "base_uri": "https://localhost:8080/"
        },
        "id": "NU-xhInmrT3h",
        "outputId": "6457ee56-4d33-41b4-e742-4c2eb2038dc3"
      },
      "execution_count": null,
      "outputs": [
        {
          "output_type": "stream",
          "name": "stdout",
          "text": [
            " * Serving Flask app '__main__'\n",
            " * Debug mode: on\n"
          ]
        },
        {
          "output_type": "stream",
          "name": "stderr",
          "text": [
            "INFO:werkzeug:\u001b[31m\u001b[1mWARNING: This is a development server. Do not use it in a production deployment. Use a production WSGI server instead.\u001b[0m\n",
            " * Running on http://127.0.0.1:5000\n",
            "INFO:werkzeug:\u001b[33mPress CTRL+C to quit\u001b[0m\n",
            "INFO:werkzeug: * Restarting with watchdog (inotify)\n"
          ]
        }
      ]
    },
    {
      "cell_type": "markdown",
      "source": [
        "Q3.How do you define different routes with different HTTP methods in Flask ?\n"
      ],
      "metadata": {
        "id": "X7imfCOFLyZd"
      }
    },
    {
      "cell_type": "code",
      "source": [
        "from flask import Flask, request\n",
        "\n",
        "app = Flask(__name__)\n",
        "\n",
        "@app.route('/multi', methods=['GET', 'POST'])\n",
        "def multi():\n",
        "    if request.method == 'GET':\n",
        "        return \"This is a GET request\"\n",
        "    elif request.method == 'POST':\n",
        "        return \"This is a POST request\"\n",
        "\n",
        "# This part is for running the app in a Colab environment.\n",
        "# It will not run when imported as a module.\n",
        "if __name__ == '__main__':\n",
        "    # Use a different port if 5000 is already in use\n",
        "    app.run(debug=True, port=5001)"
      ],
      "metadata": {
        "id": "o1MWMQe9r2pF",
        "colab": {
          "base_uri": "https://localhost:8080/"
        },
        "outputId": "f6aafb72-6ccc-4866-dd1e-87280fb8ed9e"
      },
      "execution_count": 2,
      "outputs": [
        {
          "output_type": "stream",
          "name": "stdout",
          "text": [
            " * Serving Flask app '__main__'\n",
            " * Debug mode: on\n"
          ]
        },
        {
          "output_type": "stream",
          "name": "stderr",
          "text": [
            "INFO:werkzeug:\u001b[31m\u001b[1mWARNING: This is a development server. Do not use it in a production deployment. Use a production WSGI server instead.\u001b[0m\n",
            " * Running on http://127.0.0.1:5001\n",
            "INFO:werkzeug:\u001b[33mPress CTRL+C to quit\u001b[0m\n",
            "INFO:werkzeug: * Restarting with watchdog (inotify)\n"
          ]
        }
      ]
    },
    {
      "cell_type": "markdown",
      "source": [
        "Q4. How do you render HTML templates in Flask ?\n"
      ],
      "metadata": {
        "id": "TwMHYtxMarRs"
      }
    },
    {
      "cell_type": "code",
      "source": [
        "from flask import Flask, render_template\n",
        "\n",
        "app = Flask(__name__)\n",
        "\n",
        "@app.route('/')\n",
        "def home():\n",
        "    name = \"Adi\"\n",
        "    return render_template('home.html', username=name)"
      ],
      "metadata": {
        "id": "XVKnDXu0ag-0"
      },
      "execution_count": 3,
      "outputs": []
    },
    {
      "cell_type": "markdown",
      "source": [
        "Q5. How can you generate URLs for routes in Flask using url_for ?"
      ],
      "metadata": {
        "id": "laWmond8bTBz"
      }
    },
    {
      "cell_type": "code",
      "source": [
        "from flask import Flask, url_for\n",
        "\n",
        "app = Flask(__name__)\n",
        "\n",
        "@app.route('/')\n",
        "def home():\n",
        "    return 'Home Page'\n",
        "\n",
        "@app.route('/about')\n",
        "def about():\n",
        "    return 'About Page'\n",
        "\n",
        "with app.test_request_context():\n",
        "    print(url_for('home'))   # Output: /\n",
        "    print(url_for('about'))  # Output: /about\n"
      ],
      "metadata": {
        "colab": {
          "base_uri": "https://localhost:8080/"
        },
        "id": "gSFxb1zLa4WL",
        "outputId": "f7f74ab8-828d-4554-b49b-fe61b5d5bd12"
      },
      "execution_count": 4,
      "outputs": [
        {
          "output_type": "stream",
          "name": "stdout",
          "text": [
            "/\n",
            "/about\n"
          ]
        }
      ]
    },
    {
      "cell_type": "markdown",
      "source": [
        "Q6. How do you handle forms in Flask ?"
      ],
      "metadata": {
        "id": "g7kwj1AJb7C_"
      }
    },
    {
      "cell_type": "code",
      "source": [
        "from flask import Flask, render_template, request\n",
        "\n",
        "app = Flask(__name__)\n",
        "\n",
        "@app.route('/')\n",
        "def form():\n",
        "    return render_template('form.html')\n",
        "\n",
        "@app.route('/submit', methods=['POST'])\n",
        "def submit():\n",
        "    name = request.form.get('username')\n",
        "    return f\"<h1 style='color:#e0e0e0;background:#121212;text-align:center;padding-top:50px;'>Hello, {name}! 👋</h1>\""
      ],
      "metadata": {
        "id": "RmAB06zHb5Af"
      },
      "execution_count": 5,
      "outputs": []
    },
    {
      "cell_type": "markdown",
      "source": [
        "Q7. How can you validate form data in Flask?"
      ],
      "metadata": {
        "id": "b0bEQhI2ccQP"
      }
    },
    {
      "cell_type": "code",
      "source": [
        "from flask import Flask, request, render_template_string\n",
        "\n",
        "app = Flask(__name__)\n",
        "\n",
        "@app.route('/', methods=['GET', 'POST'])\n",
        "def form():\n",
        "    error = None\n",
        "    if request.method == 'POST':\n",
        "        name = request.form.get('username')\n",
        "        if not name or len(name.strip()) < 3:\n",
        "            error = \"Name must be at least 3 characters long.\"\n",
        "        else:\n",
        "            return f\"<h1>Hello, {name} 👋</h1>\"\n",
        "\n",
        "    return render_template_string(\"\"\"\n",
        "        <form method=\"POST\">\n",
        "            <input type=\"text\" name=\"username\" placeholder=\"Enter your name\">\n",
        "            <button type=\"submit\">Submit</button>\n",
        "            {% if error %}\n",
        "                <p style=\"color:red;\">{{ error }}</p>\n",
        "            {% endif %}\n",
        "        </form>\n",
        "    \"\"\", error=error)"
      ],
      "metadata": {
        "id": "LIKByfuocSoD"
      },
      "execution_count": 6,
      "outputs": []
    },
    {
      "cell_type": "markdown",
      "source": [
        "Q8. How do you manage sessions in Flask ?"
      ],
      "metadata": {
        "id": "FAqTWs3jdGMQ"
      }
    },
    {
      "cell_type": "code",
      "source": [
        "from flask import Flask, session, redirect, url_for, request\n",
        "\n",
        "app = Flask(__name__)\n",
        "app.secret_key = 'your_secret_key'  # Required for sessions\n",
        "\n",
        "@app.route('/')\n",
        "def index():\n",
        "    user = session.get('username')\n",
        "    if user:\n",
        "        return f\"Hello {user}!\"\n",
        "    return \"You are not logged in.\"\n",
        "\n",
        "@app.route('/login', methods=['POST', 'GET'])\n",
        "def login():\n",
        "    if request.method == 'POST':\n",
        "        session['username'] = request.form['username']  # Store in session\n",
        "        return redirect(url_for('index'))\n",
        "    return '''\n",
        "        <form method=\"post\">\n",
        "            <input type=\"text\" name=\"username\" placeholder=\"Enter username\">\n",
        "            <button type=\"submit\">Login</button>\n",
        "        </form>\n",
        "    '''\n",
        "\n",
        "@app.route('/logout')\n",
        "def logout():\n",
        "    session.pop('username', None)  # Remove from session\n",
        "    return redirect(url_for('index'))\n",
        "\n",
        "if __name__ == '__main__':\n",
        "    app.run(debug=True)\n"
      ],
      "metadata": {
        "colab": {
          "base_uri": "https://localhost:8080/"
        },
        "id": "va0DCq9fc5TY",
        "outputId": "d001f02e-8f5d-43ae-9e2c-1daa36ed40df"
      },
      "execution_count": 7,
      "outputs": [
        {
          "output_type": "stream",
          "name": "stdout",
          "text": [
            " * Serving Flask app '__main__'\n",
            " * Debug mode: on\n"
          ]
        },
        {
          "output_type": "stream",
          "name": "stderr",
          "text": [
            "INFO:werkzeug:\u001b[31m\u001b[1mWARNING: This is a development server. Do not use it in a production deployment. Use a production WSGI server instead.\u001b[0m\n",
            " * Running on http://127.0.0.1:5000\n",
            "INFO:werkzeug:\u001b[33mPress CTRL+C to quit\u001b[0m\n",
            "INFO:werkzeug: * Restarting with watchdog (inotify)\n"
          ]
        }
      ]
    },
    {
      "cell_type": "markdown",
      "source": [
        "Q9. How do you redirect to a different route in Flask ?"
      ],
      "metadata": {
        "id": "MUXSaISxdlTF"
      }
    },
    {
      "cell_type": "code",
      "source": [
        "from flask import Flask, redirect, url_for\n",
        "\n",
        "app = Flask(__name__)\n",
        "\n",
        "@app.route('/')\n",
        "def home():\n",
        "    return \"Welcome to the homepage!\"\n",
        "\n",
        "@app.route('/go')\n",
        "def go():\n",
        "    return redirect(url_for('home'))"
      ],
      "metadata": {
        "id": "5tVTioCjdhPE"
      },
      "execution_count": 8,
      "outputs": []
    },
    {
      "cell_type": "markdown",
      "source": [
        "Q10. How do you handle errors in Flask (e.g., 404) ?"
      ],
      "metadata": {
        "id": "l0pzl-j6eIxw"
      }
    },
    {
      "cell_type": "code",
      "source": [
        "from flask import Flask, render_template\n",
        "\n",
        "app = Flask(__name__)\n",
        "\n",
        "@app.errorhandler(404)\n",
        "def page_not_found(e):\n",
        "    return render_template('404.html'), 404"
      ],
      "metadata": {
        "id": "Rhvf3Fb5d5n1"
      },
      "execution_count": 12,
      "outputs": []
    },
    {
      "cell_type": "markdown",
      "source": [
        "Q11. How do you structure a Flask app using Blueprints ?"
      ],
      "metadata": {
        "id": "zZ4a0RedgfXh"
      }
    },
    {
      "cell_type": "code",
      "source": [
        "from flask import Blueprint, render_template\n",
        "\n",
        "auth_bp = Blueprint('auth', __name__, url_prefix='/auth')\n",
        "\n",
        "@auth_bp.route('/login')\n",
        "def login():\n",
        "    return render_template('login.html')"
      ],
      "metadata": {
        "id": "z8ydZWGHfzpa"
      },
      "execution_count": 13,
      "outputs": []
    },
    {
      "cell_type": "markdown",
      "source": [
        "Q12. How do you define a custom Jinja filter in Flask ?"
      ],
      "metadata": {
        "id": "K-cslJgsiV4m"
      }
    },
    {
      "cell_type": "code",
      "source": [
        "def reverse_string(s):\n",
        "    return s[::-1]"
      ],
      "metadata": {
        "id": "X22y4HURhA_p"
      },
      "execution_count": 14,
      "outputs": []
    },
    {
      "cell_type": "code",
      "source": [
        "from flask import Flask\n",
        "\n",
        "app = Flask(__name__)\n",
        "\n",
        "@app.template_filter('reverse')\n",
        "def reverse_string(s):\n",
        "    return s[::-1]"
      ],
      "metadata": {
        "id": "0kVVc9DxjO_x"
      },
      "execution_count": 15,
      "outputs": []
    },
    {
      "cell_type": "markdown",
      "source": [
        "Q13.  How can you redirect with query parameters in Flask ?"
      ],
      "metadata": {
        "id": "ezeOM2-zjivB"
      }
    },
    {
      "cell_type": "code",
      "source": [
        "from flask import Flask, redirect, url_for, request\n",
        "\n",
        "app = Flask(__name__)\n",
        "\n",
        "@app.route('/')\n",
        "def home():\n",
        "    return \"Welcome to the homepage!\"\n",
        "\n",
        "@app.route('/go')\n",
        "def go():\n",
        "    # Redirect to /profile with query parameters\n",
        "    return redirect(url_for('profile', username='Adi', theme='dark'))\n",
        "\n",
        "@app.route('/profile')\n",
        "def profile():\n",
        "    username = request.args.get('username')\n",
        "    theme = request.args.get('theme')\n",
        "    return f\"Hello, {username}! Theme: {theme}\""
      ],
      "metadata": {
        "id": "dGo1AJwdjaWy"
      },
      "execution_count": 17,
      "outputs": []
    },
    {
      "cell_type": "markdown",
      "source": [
        "Q14. How do you return JSON responses in Flask ?"
      ],
      "metadata": {
        "id": "ikjDQEoNkfrN"
      }
    },
    {
      "cell_type": "code",
      "source": [
        "from flask import Flask, jsonify\n",
        "\n",
        "app = Flask(__name__)\n",
        "\n",
        "@app.route('/data')\n",
        "def data():\n",
        "    response = {\n",
        "        \"name\": \"Adi\",\n",
        "        \"theme\": \"dark\",\n",
        "        \"pet\": \"TEDDY\"\n",
        "    }\n",
        "    return jsonify(response)"
      ],
      "metadata": {
        "id": "VdDkW4ZJj0ur"
      },
      "execution_count": 18,
      "outputs": []
    },
    {
      "cell_type": "markdown",
      "source": [
        "Q15.  How do you capture URL parameters in Flask?"
      ],
      "metadata": {
        "id": "3PzYJ8fflor5"
      }
    },
    {
      "cell_type": "code",
      "source": [
        "from flask import Flask\n",
        "\n",
        "app = Flask(__name__)\n",
        "\n",
        "@app.route('/user/<username>')\n",
        "def show_user(username):\n",
        "    return f\"Hello, {username} \""
      ],
      "metadata": {
        "id": "gCXlmFJ8lkEv"
      },
      "execution_count": 19,
      "outputs": []
    },
    {
      "cell_type": "code",
      "source": [],
      "metadata": {
        "id": "iXlYYsqomNGg"
      },
      "execution_count": null,
      "outputs": []
    }
  ]
}